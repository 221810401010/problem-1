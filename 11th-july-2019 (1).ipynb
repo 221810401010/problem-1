{
 "cells": [
  {
   "cell_type": "markdown",
   "metadata": {},
   "source": [
    "### standard libraries\n",
    "- file I/o\n",
    "- regular expression\n",
    "- data time\n",
    "- math(numerical and mathematical)"
   ]
  },
  {
   "cell_type": "markdown",
   "metadata": {},
   "source": [
    "### File Handling in python\n",
    "- file:- document containg information resides on the permanenet storage\n",
    "- different type of files:- txt,doc,pdf,csv and etc...\n",
    "- Input -- keybord\n",
    "- output -- file\n",
    "### Modes of the Files I/O\n",
    "- 'w' -- this mode is used to file writing\n",
    "      -- If the file is not present first it create the file and write so me data to it"
   ]
  },
  {
   "cell_type": "code",
   "execution_count": 5,
   "metadata": {},
   "outputs": [
    {
     "name": "stdout",
     "output_type": "stream",
     "text": [
      "File is created and data has written\n"
     ]
    }
   ],
   "source": [
    "# function to create a file and write to the file\n",
    "def createfile(filename):\n",
    "    f = open(filename,'w')\n",
    "    for i in range(10):\n",
    "        f.write('This is %d Line' % i)\n",
    "    print(\"File is created and data has written\")\n",
    "    return\n",
    "createfile('file.txt')"
   ]
  },
  {
   "cell_type": "code",
   "execution_count": 6,
   "metadata": {},
   "outputs": [
    {
     "name": "stdout",
     "output_type": "stream",
     "text": [
      " Volume in drive C has no label.\n",
      " Volume Serial Number is 9CD9-FDB4\n",
      "\n",
      " Directory of C:\\Users\\mplab\n",
      "\n",
      "11-07-2019  09:35    <DIR>          .\n",
      "11-07-2019  09:35    <DIR>          ..\n",
      "17-06-2019  13:05    <DIR>          .anaconda\n",
      "05-07-2019  14:55             2,089 .bash_history\n",
      "11-07-2019  09:35    <DIR>          .conda\n",
      "11-07-2019  09:12                43 .condarc\n",
      "05-07-2019  09:50                54 .gitconfig\n",
      "29-06-2019  10:51    <DIR>          .idlerc\n",
      "11-07-2019  09:13    <DIR>          .ipynb_checkpoints\n",
      "17-06-2019  13:16    <DIR>          .ipython\n",
      "21-06-2019  15:04    <DIR>          .jupyter\n",
      "29-06-2019  09:29    <DIR>          .matplotlib\n",
      "05-07-2019  15:52             8,655 05-july-2019.ipynb\n",
      "06-07-2019  12:46             7,276 06-july-2019.ipynb\n",
      "08-07-2019  15:21             8,604 08-july-2019.ipynb\n",
      "09-07-2019  16:45            14,104 09-july-2019.ipynb\n",
      "10-07-2019  13:03            19,524 10-july-2019.ipynb\n",
      "11-07-2019  09:35             2,773 11th-july-2019.ipynb\n",
      "21-06-2019  06:34    <DIR>          Anaconda3\n",
      "10-07-2019  09:14             2,976 assignment.ipynb\n",
      "10-07-2019  15:28            10,396 assignment1.ipynb\n",
      "17-06-2019  10:14    <DIR>          Contacts\n",
      "08-07-2019  16:00             8,580 day 6 work.ipynb\n",
      "09-07-2019  09:15               153 debug.log\n",
      "10-07-2019  12:41    <DIR>          Desktop\n",
      "10-07-2019  16:49    <DIR>          Documents\n",
      "10-07-2019  15:30    <DIR>          Downloads\n",
      "17-06-2019  10:14    <DIR>          Favorites\n",
      "11-07-2019  09:35               140 file.txt\n",
      "04-07-2019  10:47               188 file1.txt\n",
      "29-06-2019  11:19    <DIR>          Links\n",
      "17-06-2019  10:14    <DIR>          Music\n",
      "17-06-2019  10:14    <DIR>          Pictures\n",
      "04-07-2019  10:15    <DIR>          probslovingprogramming\n",
      "17-06-2019  10:14    <DIR>          Saved Games\n",
      "17-06-2019  10:14    <DIR>          Searches\n",
      "29-06-2019  11:34    <DIR>          srikanth python\n",
      "22-06-2019  12:23             2,773 srikanth1.ipynb\n",
      "22-06-2019  12:43             3,315 srikanthpython.ipynb\n",
      "22-06-2019  12:22             2,506 srikanthpython-Copy1.ipynb\n",
      "05-07-2019  14:57               555 Untitled.ipynb\n",
      "21-06-2019  15:59                 0 untitled.txt\n",
      "06-07-2019  11:36                72 Untitled2.ipynb\n",
      "17-06-2019  10:14    <DIR>          Videos\n",
      "              21 File(s)         94,776 bytes\n",
      "              23 Dir(s)  182,874,873,856 bytes free\n"
     ]
    }
   ],
   "source": [
    "ls"
   ]
  },
  {
   "cell_type": "code",
   "execution_count": 7,
   "metadata": {},
   "outputs": [
    {
     "ename": "SyntaxError",
     "evalue": "invalid syntax (<ipython-input-7-44a3bd69c4f2>, line 1)",
     "output_type": "error",
     "traceback": [
      "\u001b[1;36m  File \u001b[1;32m\"<ipython-input-7-44a3bd69c4f2>\"\u001b[1;36m, line \u001b[1;32m1\u001b[0m\n\u001b[1;33m    cat file1.txt\u001b[0m\n\u001b[1;37m            ^\u001b[0m\n\u001b[1;31mSyntaxError\u001b[0m\u001b[1;31m:\u001b[0m invalid syntax\n"
     ]
    }
   ],
   "source": [
    "cat file1.txt\n",
    "\n"
   ]
  },
  {
   "cell_type": "code",
   "execution_count": 9,
   "metadata": {},
   "outputs": [
    {
     "name": "stdout",
     "output_type": "stream",
     "text": [
      "File is created and has written\n"
     ]
    }
   ],
   "source": [
    "def createFile(filename):\n",
    "    f = open(filename,'w')\n",
    "    f.write('Testing...\\n')\n",
    "    print(\"File is created and has written\")\n",
    "    return\n",
    "createFile('file1.txt')"
   ]
  },
  {
   "cell_type": "code",
   "execution_count": 12,
   "metadata": {},
   "outputs": [
    {
     "name": "stdout",
     "output_type": "stream",
     "text": [
      "file created and sccessfully data written\n"
     ]
    }
   ],
   "source": [
    "def appenddata(filename):\n",
    "    f = open(filename,'a')\n",
    "    for i in range(10):\n",
    "        f.write(\"This is %d Line\\n\" % i)\n",
    "    print(\"file created and sccessfully data written\")\n",
    "    return\n",
    "appenddata('file2.txt')"
   ]
  },
  {
   "cell_type": "code",
   "execution_count": 11,
   "metadata": {},
   "outputs": [
    {
     "name": "stdout",
     "output_type": "stream",
     "text": [
      "file created and successfully data written\n"
     ]
    }
   ],
   "source": [
    "def appenddata(filename):\n",
    "    f = open(filename,'a')\n",
    "    f.write(\"new Line 1 \\n\")\n",
    "    f.write(\"new Line 2 \\n\")\n",
    "    print('file created and successfully data written')\n",
    "    return\n",
    "appenddata('file2.txt')"
   ]
  },
  {
   "cell_type": "code",
   "execution_count": 13,
   "metadata": {},
   "outputs": [
    {
     "name": "stdout",
     "output_type": "stream",
     "text": [
      "new Line 1 \n",
      "new Line 2 \n",
      "This is 0 Line\n",
      "This is 1 Line\n",
      "This is 2 Line\n",
      "This is 3 Line\n",
      "This is 4 Line\n",
      "This is 5 Line\n",
      "This is 6 Line\n",
      "This is 7 Line\n",
      "This is 8 Line\n",
      "This is 9 Line\n",
      "\n"
     ]
    }
   ],
   "source": [
    "def readfiledata(filename):\n",
    "    f = open(filename,'r')\n",
    "    if f.mode == 'r':\n",
    "        x = f.read()\n",
    "        print(x)\n",
    "    f.close()\n",
    "    return\n",
    "readfiledata('file2.txt')"
   ]
  },
  {
   "cell_type": "code",
   "execution_count": 17,
   "metadata": {},
   "outputs": [
    {
     "name": "stdout",
     "output_type": "stream",
     "text": [
      "enter the file namedata.txt\n",
      "enter the mode of the filea\n",
      "the data successfully written\n"
     ]
    }
   ],
   "source": [
    "#function to rad the file\n",
    "def fileoperations(filename,mode):\n",
    "    with open(filename,mode) as f:\n",
    "        if f.mode == 'r':\n",
    "            data = f.read()\n",
    "            print(data)\n",
    "        elif f.mode == 'a':\n",
    "            f.write('data to the file')\n",
    "            print('the data successfully written')\n",
    "    f.close()\n",
    "    return\n",
    "filename = input('enter the file name')\n",
    "mode = input('enter the mode of the file')\n",
    "fileoperations(filename,mode)"
   ]
  },
  {
   "cell_type": "code",
   "execution_count": 18,
   "metadata": {},
   "outputs": [
    {
     "name": "stdout",
     "output_type": "stream",
     "text": [
      "Enter the file name :file2.txt\n",
      "Enter the word :is\n"
     ]
    },
    {
     "data": {
      "text/plain": [
       "10"
      ]
     },
     "execution_count": 18,
     "metadata": {},
     "output_type": "execute_result"
    }
   ],
   "source": [
    "\n",
    "# Data Analysis\n",
    "# Word Count Program\n",
    "def wordCount(filename,word):\n",
    "    with open(filename, 'r') as f:\n",
    "        if f.mode == 'r':\n",
    "            x= f.read()\n",
    "            li= x.split()    #It splits the string with whitespace\n",
    "    cnt= li.count(word)\n",
    "    return cnt\n",
    "filename = input('Enter the file name :')\n",
    "word = input('Enter the word :')  #which word count you need\n",
    "wordCount(filename,word)\n",
    "\n"
   ]
  },
  {
   "cell_type": "code",
   "execution_count": 19,
   "metadata": {},
   "outputs": [
    {
     "name": "stdout",
     "output_type": "stream",
     "text": [
      "Enter the filename : file2.txt\n"
     ]
    },
    {
     "data": {
      "text/plain": [
       "174"
      ]
     },
     "execution_count": 19,
     "metadata": {},
     "output_type": "execute_result"
    }
   ],
   "source": [
    "# character count from the given file\n",
    "def charcount(filename):\n",
    "    with open(filename,'r') as f:\n",
    "        if f.mode == 'r':\n",
    "            x = f.read()\n",
    "            li = list(x)\n",
    "    return len(li)\n",
    "filename = input('Enter the filename : ')\n",
    "charcount(filename)\n"
   ]
  },
  {
   "cell_type": "code",
   "execution_count": 23,
   "metadata": {},
   "outputs": [
    {
     "name": "stdout",
     "output_type": "stream",
     "text": [
      "['python', 'program']\n"
     ]
    }
   ],
   "source": [
    "s1 = 'python program'\n",
    "print(s1.split())"
   ]
  },
  {
   "cell_type": "code",
   "execution_count": 26,
   "metadata": {},
   "outputs": [
    {
     "name": "stdout",
     "output_type": "stream",
     "text": [
      "enter the filenamefile2.txt\n"
     ]
    },
    {
     "data": {
      "text/plain": [
       "13"
      ]
     },
     "execution_count": 26,
     "metadata": {},
     "output_type": "execute_result"
    }
   ],
   "source": [
    "# function to find the no of lines in the input file\n",
    "def countoflines(filename):\n",
    "    with open (filename,'r') as f:\n",
    "        if f.mode == 'r':\n",
    "            x = f.read()\n",
    "            li = x.split(\"\\n\")\n",
    "    return len(li)\n",
    "filename = input('enter the filename')\n",
    "countoflines(filename)"
   ]
  },
  {
   "cell_type": "code",
   "execution_count": 28,
   "metadata": {},
   "outputs": [
    {
     "name": "stdout",
     "output_type": "stream",
     "text": [
      "enter the name : file2.txt\n"
     ]
    },
    {
     "data": {
      "text/plain": [
       "'upper case =22, Lower case =92'"
      ]
     },
     "execution_count": 28,
     "metadata": {},
     "output_type": "execute_result"
    }
   ],
   "source": [
    "# function to print the upper and lower charactertics\n",
    "def casecount(filename):\n",
    "    cntupper = 0\n",
    "    cntlower = 0\n",
    "    with open(filename,'r') as f:\n",
    "        if f.mode == 'r':\n",
    "            x = f.read()\n",
    "            li = list(x)\n",
    "    for i in li:\n",
    "        if i .isupper():\n",
    "            cntupper += 1 \n",
    "        elif i.islower():\n",
    "            cntlower += 1\n",
    "    output = 'upper case ={0}, Lower case ={1}'.format(cntupper,cntlower)\n",
    "    return output\n",
    "filename = input('enter the name : ')\n",
    "casecount(filename)\n"
   ]
  },
  {
   "cell_type": "code",
   "execution_count": 30,
   "metadata": {},
   "outputs": [
    {
     "name": "stdout",
     "output_type": "stream",
     "text": [
      " Volume in drive C has no label.\n",
      " Volume Serial Number is 9CD9-FDB4\n",
      "\n",
      " Directory of C:\\Users\\mplab\n",
      "\n",
      "11-07-2019  12:29    <DIR>          .\n",
      "11-07-2019  12:29    <DIR>          ..\n",
      "17-06-2019  13:05    <DIR>          .anaconda\n",
      "05-07-2019  14:55             2,089 .bash_history\n",
      "11-07-2019  12:30    <DIR>          .conda\n",
      "11-07-2019  09:12                43 .condarc\n",
      "05-07-2019  09:50                54 .gitconfig\n",
      "29-06-2019  10:51    <DIR>          .idlerc\n",
      "11-07-2019  09:13    <DIR>          .ipynb_checkpoints\n",
      "17-06-2019  13:16    <DIR>          .ipython\n",
      "21-06-2019  15:04    <DIR>          .jupyter\n",
      "29-06-2019  09:29    <DIR>          .matplotlib\n",
      "05-07-2019  15:52             8,655 05-july-2019.ipynb\n",
      "06-07-2019  12:46             7,276 06-july-2019.ipynb\n",
      "08-07-2019  15:21             8,604 08-july-2019.ipynb\n",
      "09-07-2019  16:45            14,104 09-july-2019.ipynb\n",
      "10-07-2019  13:03            19,524 10-july-2019.ipynb\n",
      "11-07-2019  12:29            12,561 11th-july-2019.ipynb\n",
      "21-06-2019  06:34    <DIR>          Anaconda3\n",
      "10-07-2019  09:14             2,976 assignment.ipynb\n",
      "10-07-2019  15:28            10,396 assignment1.ipynb\n",
      "17-06-2019  10:14    <DIR>          Contacts\n",
      "11-07-2019  10:27                16 data.txt\n",
      "08-07-2019  16:00             8,580 day 6 work.ipynb\n",
      "09-07-2019  09:15               153 debug.log\n",
      "10-07-2019  12:41    <DIR>          Desktop\n",
      "11-07-2019  11:23    <DIR>          Documents\n",
      "11-07-2019  11:18    <DIR>          Downloads\n",
      "17-06-2019  10:14    <DIR>          Favorites\n",
      "11-07-2019  09:35               140 file.txt\n",
      "11-07-2019  09:54                12 file1.txt\n",
      "11-07-2019  10:06               186 file2.txt\n",
      "29-06-2019  11:19    <DIR>          Links\n",
      "17-06-2019  10:14    <DIR>          Music\n",
      "17-06-2019  10:14    <DIR>          Pictures\n",
      "04-07-2019  10:15    <DIR>          probslovingprogramming\n",
      "17-06-2019  10:14    <DIR>          Saved Games\n",
      "17-06-2019  10:14    <DIR>          Searches\n",
      "29-06-2019  11:34    <DIR>          srikanth python\n",
      "22-06-2019  12:23             2,773 srikanth1.ipynb\n",
      "22-06-2019  12:43             3,315 srikanthpython.ipynb\n",
      "22-06-2019  12:22             2,506 srikanthpython-Copy1.ipynb\n",
      "05-07-2019  14:57               555 Untitled.ipynb\n",
      "21-06-2019  15:59                 0 untitled.txt\n",
      "06-07-2019  11:36                72 Untitled2.ipynb\n",
      "17-06-2019  10:14    <DIR>          Videos\n",
      "              23 File(s)        104,590 bytes\n",
      "              23 Dir(s)  185,469,288,448 bytes free\n"
     ]
    }
   ],
   "source": [
    "ls"
   ]
  },
  {
   "cell_type": "code",
   "execution_count": 31,
   "metadata": {},
   "outputs": [
    {
     "name": "stdout",
     "output_type": "stream",
     "text": [
      "C:\\Users\\mplab\\probslovingprogramming\\git\n"
     ]
    }
   ],
   "source": [
    "cd probslovingprogramming/git"
   ]
  },
  {
   "cell_type": "code",
   "execution_count": 32,
   "metadata": {},
   "outputs": [
    {
     "name": "stdout",
     "output_type": "stream",
     "text": [
      " Volume in drive C has no label.\n",
      " Volume Serial Number is 9CD9-FDB4\n",
      "\n",
      " Directory of C:\\Users\\mplab\\probslovingprogramming\\git\n",
      "\n",
      "04-07-2019  10:25    <DIR>          .\n",
      "04-07-2019  10:25    <DIR>          ..\n",
      "04-07-2019  10:36                71 file1.txt\n",
      "               1 File(s)             71 bytes\n",
      "               2 Dir(s)  185,414,578,176 bytes free\n"
     ]
    }
   ],
   "source": [
    "ls"
   ]
  },
  {
   "cell_type": "code",
   "execution_count": 33,
   "metadata": {},
   "outputs": [
    {
     "name": "stdout",
     "output_type": "stream",
     "text": [
      "C:\\Users\\mplab\\probslovingprogramming\n"
     ]
    }
   ],
   "source": [
    "cd .."
   ]
  },
  {
   "cell_type": "code",
   "execution_count": 34,
   "metadata": {},
   "outputs": [
    {
     "data": {
      "text/plain": [
       "['file1.txt']"
      ]
     },
     "execution_count": 34,
     "metadata": {},
     "output_type": "execute_result"
    }
   ],
   "source": [
    "import os\n",
    "os.listdir('git/')  # Listdir()  --ls"
   ]
  },
  {
   "cell_type": "code",
   "execution_count": 35,
   "metadata": {},
   "outputs": [
    {
     "name": "stdout",
     "output_type": "stream",
     "text": [
      "<DirEntry 'file1.txt'>\n"
     ]
    }
   ],
   "source": [
    "\n",
    "li = os.scandir('git/')\n",
    "for i in li:\n",
    "    print(i)"
   ]
  },
  {
   "cell_type": "code",
   "execution_count": 36,
   "metadata": {},
   "outputs": [
    {
     "name": "stdout",
     "output_type": "stream",
     "text": [
      "file1.txt\n"
     ]
    }
   ],
   "source": [
    "from pathlib import Path\n",
    "li = Path('git/')\n",
    "for i in li.iterdir():\n",
    "    print(i.name)"
   ]
  },
  {
   "cell_type": "code",
   "execution_count": 40,
   "metadata": {},
   "outputs": [
    {
     "name": "stdout",
     "output_type": "stream",
     "text": [
      "file1.txt\n"
     ]
    }
   ],
   "source": [
    "import os\n",
    "dirPath = \"Git/\"\n",
    "for i in os.listdir(dirPath):\n",
    "    if os.path.isfile(os.path.join(dirPath,i)):\n",
    "        print(i)\n"
   ]
  },
  {
   "cell_type": "code",
   "execution_count": 41,
   "metadata": {},
   "outputs": [
    {
     "name": "stdout",
     "output_type": "stream",
     "text": [
      "file1.txt\n"
     ]
    }
   ],
   "source": [
    "import os\n",
    "\n",
    "dirPath = \"Git/\"\n",
    "for i in os.listdir(dirPath):\n",
    "    if os.path.isfile(os.path.join(dirPath,i)):\n",
    "        print(i)"
   ]
  },
  {
   "cell_type": "code",
   "execution_count": 51,
   "metadata": {},
   "outputs": [],
   "source": [
    "from pathlib import Path\n",
    "dirPath = Path('Git/')\n",
    "for i in dirPath.iterdir():\n",
    "    if i.is_dir():\n",
    "        print(i.name)"
   ]
  },
  {
   "cell_type": "markdown",
   "metadata": {},
   "source": [
    "### creating a single directory"
   ]
  },
  {
   "cell_type": "code",
   "execution_count": null,
   "metadata": {},
   "outputs": [],
   "source": [
    "import os\n",
    "os.mkdir('SingleDirectory')"
   ]
  },
  {
   "cell_type": "code",
   "execution_count": 54,
   "metadata": {},
   "outputs": [],
   "source": [
    "import pathlib\n",
    "p = pathlib.Path('Test')\n",
    "p.mkdir()"
   ]
  },
  {
   "cell_type": "code",
   "execution_count": 55,
   "metadata": {},
   "outputs": [
    {
     "name": "stdout",
     "output_type": "stream",
     "text": [
      " Volume in drive C has no label.\n",
      " Volume Serial Number is 9CD9-FDB4\n",
      "\n",
      " Directory of C:\\Users\\mplab\\probslovingprogramming\n",
      "\n",
      "11-07-2019  15:21    <DIR>          .\n",
      "11-07-2019  15:21    <DIR>          ..\n",
      "04-07-2019  10:25    <DIR>          git\n",
      "11-07-2019  15:15    <DIR>          SingleDirectory\n",
      "11-07-2019  15:21    <DIR>          Test\n",
      "               0 File(s)              0 bytes\n",
      "               5 Dir(s)  185,425,506,304 bytes free\n"
     ]
    }
   ],
   "source": [
    "ls"
   ]
  },
  {
   "cell_type": "markdown",
   "metadata": {},
   "source": [
    "### creating multiples directories"
   ]
  },
  {
   "cell_type": "code",
   "execution_count": 57,
   "metadata": {},
   "outputs": [],
   "source": [
    "import os\n",
    "os.makedirs('2019/July/11')"
   ]
  },
  {
   "cell_type": "code",
   "execution_count": 58,
   "metadata": {},
   "outputs": [
    {
     "name": "stdout",
     "output_type": "stream",
     "text": [
      " Volume in drive C has no label.\n",
      " Volume Serial Number is 9CD9-FDB4\n",
      "\n",
      " Directory of C:\\Users\\mplab\\probslovingprogramming\n",
      "\n",
      "11-07-2019  15:22    <DIR>          .\n",
      "11-07-2019  15:22    <DIR>          ..\n",
      "11-07-2019  15:22    <DIR>          2019\n",
      "04-07-2019  10:25    <DIR>          git\n",
      "11-07-2019  15:15    <DIR>          SingleDirectory\n",
      "11-07-2019  15:21    <DIR>          Test\n",
      "               0 File(s)              0 bytes\n",
      "               6 Dir(s)  185,424,584,704 bytes free\n"
     ]
    }
   ],
   "source": [
    "ls"
   ]
  },
  {
   "cell_type": "markdown",
   "metadata": {},
   "source": [
    "### filename pattern matching"
   ]
  },
  {
   "cell_type": "code",
   "execution_count": 59,
   "metadata": {},
   "outputs": [],
   "source": [
    "import os\n",
    "dirPath = 'Git/'\n",
    "for f_name in os.listdir(dirPath):\n",
    "    if f_name.endswith('.ipynb'):\n",
    "        print(f_name)"
   ]
  },
  {
   "cell_type": "markdown",
   "metadata": {},
   "source": [
    "### deleting files and directories"
   ]
  },
  {
   "cell_type": "code",
   "execution_count": 60,
   "metadata": {},
   "outputs": [
    {
     "name": "stdout",
     "output_type": "stream",
     "text": [
      " Volume in drive C has no label.\n",
      " Volume Serial Number is 9CD9-FDB4\n",
      "\n",
      " Directory of C:\\Users\\mplab\\probslovingprogramming\n",
      "\n",
      "11-07-2019  15:22    <DIR>          .\n",
      "11-07-2019  15:22    <DIR>          ..\n",
      "11-07-2019  15:22    <DIR>          2019\n",
      "04-07-2019  10:25    <DIR>          git\n",
      "11-07-2019  15:15    <DIR>          SingleDirectory\n",
      "11-07-2019  15:21    <DIR>          Test\n",
      "               0 File(s)              0 bytes\n",
      "               6 Dir(s)  185,420,963,840 bytes free\n"
     ]
    }
   ],
   "source": [
    "ls\n"
   ]
  },
  {
   "cell_type": "code",
   "execution_count": 65,
   "metadata": {},
   "outputs": [
    {
     "name": "stdout",
     "output_type": "stream",
     "text": [
      "C:\\Users\\mplab\\probslovingprogramming\\git\n"
     ]
    }
   ],
   "source": [
    "cd git"
   ]
  },
  {
   "cell_type": "code",
   "execution_count": 66,
   "metadata": {},
   "outputs": [
    {
     "name": "stdout",
     "output_type": "stream",
     "text": [
      " Volume in drive C has no label.\n",
      " Volume Serial Number is 9CD9-FDB4\n",
      "\n",
      " Directory of C:\\Users\\mplab\\probslovingprogramming\\git\n",
      "\n",
      "04-07-2019  10:25    <DIR>          .\n",
      "04-07-2019  10:25    <DIR>          ..\n",
      "04-07-2019  10:36                71 file1.txt\n",
      "               1 File(s)             71 bytes\n",
      "               2 Dir(s)  185,441,726,464 bytes free\n"
     ]
    }
   ],
   "source": [
    "ls"
   ]
  },
  {
   "cell_type": "code",
   "execution_count": 69,
   "metadata": {},
   "outputs": [
    {
     "data": {
      "text/plain": [
       "'C:\\\\Users\\\\mplab\\\\probslovingprogramming\\\\git'"
      ]
     },
     "execution_count": 69,
     "metadata": {},
     "output_type": "execute_result"
    }
   ],
   "source": [
    "pwd"
   ]
  },
  {
   "cell_type": "code",
   "execution_count": 70,
   "metadata": {},
   "outputs": [],
   "source": [
    "import os\n",
    "data_file = 'file1.txt' # Give the entire Path\n",
    "os.remove(data_file)\n"
   ]
  },
  {
   "cell_type": "code",
   "execution_count": 71,
   "metadata": {},
   "outputs": [
    {
     "name": "stdout",
     "output_type": "stream",
     "text": [
      "C:\\Users\\mplab\\probslovingprogramming\n"
     ]
    }
   ],
   "source": [
    "cd .."
   ]
  },
  {
   "cell_type": "code",
   "execution_count": 73,
   "metadata": {},
   "outputs": [],
   "source": [
    "data_dir = 'Test'\n",
    "os.rmdir(data_dir)"
   ]
  },
  {
   "cell_type": "code",
   "execution_count": 74,
   "metadata": {},
   "outputs": [
    {
     "data": {
      "text/plain": [
       "'C:\\\\Users\\\\mplab\\\\probslovingprogramming'"
      ]
     },
     "execution_count": 74,
     "metadata": {},
     "output_type": "execute_result"
    }
   ],
   "source": [
    "pwd"
   ]
  },
  {
   "cell_type": "code",
   "execution_count": 76,
   "metadata": {},
   "outputs": [],
   "source": [
    "import shutil\n",
    "data_dir = '2019'\n",
    "shutil.rmtree(data_dir)"
   ]
  },
  {
   "cell_type": "code",
   "execution_count": null,
   "metadata": {},
   "outputs": [],
   "source": []
  },
  {
   "cell_type": "code",
   "execution_count": null,
   "metadata": {},
   "outputs": [],
   "source": []
  },
  {
   "cell_type": "code",
   "execution_count": null,
   "metadata": {},
   "outputs": [],
   "source": []
  },
  {
   "cell_type": "code",
   "execution_count": null,
   "metadata": {},
   "outputs": [],
   "source": []
  },
  {
   "cell_type": "code",
   "execution_count": null,
   "metadata": {},
   "outputs": [],
   "source": []
  }
 ],
 "metadata": {
  "kernelspec": {
   "display_name": "Python 3",
   "language": "python",
   "name": "python3"
  },
  "language_info": {
   "codemirror_mode": {
    "name": "ipython",
    "version": 3
   },
   "file_extension": ".py",
   "mimetype": "text/x-python",
   "name": "python",
   "nbconvert_exporter": "python",
   "pygments_lexer": "ipython3",
   "version": "3.7.3"
  }
 },
 "nbformat": 4,
 "nbformat_minor": 2
}
